{
  "nbformat": 4,
  "nbformat_minor": 0,
  "metadata": {
    "colab": {
      "provenance": []
    },
    "kernelspec": {
      "name": "python3",
      "display_name": "Python 3"
    },
    "language_info": {
      "name": "python"
    }
  },
  "cells": [
    {
      "cell_type": "markdown",
      "source": [
        "Ans1- Python is a high-level, interpreted, and general-purpose programming language known for its simplicity and readability. Created by Guido van Rossum in 1991, Python is designed to emphasize code readability with its clean syntax that allows developers to write fewer lines of code compared to many other programming languages.\n",
        "\n",
        "why is it popular-Simple and Readable Syntax\n",
        "                  Versatility\n",
        "                  Ease of Learning\n",
        "\n",
        "Ans2-An interpreter in Python is a program that executes Python code line by line, rather than compiling the entire program into machine code before execution. It translates high-level Python code into a form that the computer can understand and execute directly.\n",
        "\n",
        "Ans3-control flow- if, else,elif, for,while, break,continue,return , pass\n",
        "     logical operator- and, or , not\n",
        "     comparison-is, in\n",
        "     exception handling- try,except,finally,raise,assert\n",
        "     variable management-del,global,nonlocal\n",
        "     function-lambda,def\n",
        "     class and object-class, self\n",
        "     imports-import, from , as\n",
        "     special constants-true,false,none\n",
        "     with statement-with, yield\n",
        "\n",
        "Ans4-No, you cannot use a keyword as a variable name in Python. Keywords are reserved words that have a predefined meaning in the Python language and are used for specific purposes in the syntax (e.g., defining loops, conditions, functions, etc.). Allowing keywords as variable names would cause ambiguity and errors in the code\n",
        "\n",
        " Ans5-Mutability in Python refers to the ability of an object to be modified after it has been created. In simple terms, if an object’s state or content can be changed after its creation.\n",
        "\n",
        "Ans6- list are designed to be dynamic collection of item where you often need tp -\n",
        "    add or remove element(append, pop, extend etc)\n",
        "    modify elements in place(list[index]=new_value\n",
        "  Efficiency:allowing list to be mutable\n",
        "    1.Avoids creating a new list every time an operation modifies it.\n",
        "    2.This saves memory and speeds up operations, especially with large datasets.\n",
        "\n",
        "Ans7- ==(equality operator)\n",
        "      Purpose: Compares the values of two objects.\n",
        "      Checks if the two objects have equivalent data, regardless of whether they are the same object in memory.\n",
        "\n",
        "      a = [1, 2, 3]\n",
        "\n",
        "      b = [1, 2, 3]\n",
        "    \n",
        "      print(a == b)  # Output: True (values are the same)\n",
        "\n",
        "   Here, a and b are two different objects in memory, but their values are equal, so a == b returns True.\n",
        "\n",
        "   is(identity operator)   \n",
        "   Purpose: Compares the identity of two objects.\n",
        "\n",
        "   Checks if the two objects are exactly the same object in memory (i.e., they share the same memory address).\n",
        "\n",
        "\n",
        "Ans8- Logical operators in Python are used to perform logical operations on expressions, allowing you to combine conditions or perform boolean logic. The result of a logical operation is always a boolean value: True or False.\n",
        "\n",
        "ANs9- Type casting (or type conversion) in Python is the process of converting one data type to another. This can be done either implicitly (automatic conversion by Python) or explicitly (manually by the programmer).\n",
        "\n",
        "Ans11- The purpose of conditional statements in Python is to enable decision-making in a program. They allow the program to execute certain blocks of code only when specific conditions are met. This is essential for creating dynamic and interactive programs.\n",
        "\n",
        "Ans12- 1.The program evaluates the conditions in the if block first.\n",
        "2.If the if condition is False, the program moves to the first elif condition.\n",
        "3.If the elif condition is True, its corresponding block of code is executed, and the rest of the elif and else blocks are skipped.\n",
        "4.If none of the elif conditions are True, the else block (if present) is executed.\n",
        "\n",
        "\n",
        "Ans14-A while loop is more suitable than a for loop when the number of iterations is not predetermined and depends on a dynamic condition that changes during execution.\n",
        "\n",
        "\n",
        "\n",
        "\n"
      ],
      "metadata": {
        "id": "_AY9cQMig2Qi"
      }
    },
    {
      "cell_type": "code",
      "source": [
        "# Program to print \"Hello, World!\"\n",
        "print(\"Hello, World!\")"
      ],
      "metadata": {
        "colab": {
          "base_uri": "https://localhost:8080/"
        },
        "id": "KDyFYfVaKADM",
        "outputId": "7ff9620f-63bd-4469-f8b2-06682c8ccd8a"
      },
      "execution_count": null,
      "outputs": [
        {
          "output_type": "stream",
          "name": "stdout",
          "text": [
            "Hello, World!\n"
          ]
        }
      ]
    },
    {
      "cell_type": "code",
      "source": [
        "# Program to display name and age\n",
        "name = \"John Doe\"  # Replace with your name\n",
        "age = 25           # Replace with your age\n",
        "\n",
        "print(\"My name is\", name)\n",
        "print(\"I am\", age, \"years old\")"
      ],
      "metadata": {
        "colab": {
          "base_uri": "https://localhost:8080/"
        },
        "id": "wsBuj3arIijW",
        "outputId": "54836807-268d-43df-8d43-92354ba3a131"
      },
      "execution_count": null,
      "outputs": [
        {
          "output_type": "stream",
          "name": "stdout",
          "text": [
            "My name is John Doe\n",
            "I am 25 years old\n"
          ]
        }
      ]
    },
    {
      "cell_type": "code",
      "source": [
        "# Program to print all predefined keywords in Python using the keyword module\n",
        "import keyword\n",
        "\n",
        "# Get the list of all predefined keywords\n",
        "keywords = keyword.kwlist\n",
        "\n",
        "# Print the keywords\n",
        "print(\"Python Predefined Keywords:\")\n",
        "for keyword in keywords:\n",
        "    print(keyword)"
      ],
      "metadata": {
        "colab": {
          "base_uri": "https://localhost:8080/"
        },
        "id": "i8Uhm5U8K9-l",
        "outputId": "b34f9c03-6d68-49b6-af80-532c6eada582"
      },
      "execution_count": null,
      "outputs": [
        {
          "output_type": "stream",
          "name": "stdout",
          "text": [
            "Python Predefined Keywords:\n",
            "False\n",
            "None\n",
            "True\n",
            "and\n",
            "as\n",
            "assert\n",
            "async\n",
            "await\n",
            "break\n",
            "class\n",
            "continue\n",
            "def\n",
            "del\n",
            "elif\n",
            "else\n",
            "except\n",
            "finally\n",
            "for\n",
            "from\n",
            "global\n",
            "if\n",
            "import\n",
            "in\n",
            "is\n",
            "lambda\n",
            "nonlocal\n",
            "not\n",
            "or\n",
            "pass\n",
            "raise\n",
            "return\n",
            "try\n",
            "while\n",
            "with\n",
            "yield\n"
          ]
        }
      ]
    },
    {
      "cell_type": "code",
      "source": [
        "# Program to check if a given word is a Python keyword\n",
        "import keyword\n",
        "\n",
        "# Input word from the user\n",
        "word = input(\"Enter a word to check if it's a Python keyword: \")\n",
        "\n",
        "# Check if the word is a Python keyword\n",
        "if keyword.iskeyword(word):\n",
        "    print(f\"'{word}' is a Python keyword.\")\n",
        "else:\n",
        "    print(f\"'{word}' is not a Python keyword.\")\n"
      ],
      "metadata": {
        "colab": {
          "base_uri": "https://localhost:8080/"
        },
        "id": "3kn2-8IkTswK",
        "outputId": "36fce3dd-d182-4dc4-8afd-965ea252dab9"
      },
      "execution_count": null,
      "outputs": [
        {
          "output_type": "stream",
          "name": "stdout",
          "text": [
            "Enter a word to check if it's a Python keyword: hello\n",
            "'hello' is not a Python keyword.\n"
          ]
        }
      ]
    },
    {
      "cell_type": "code",
      "source": [
        "# Function to demonstrate mutable and immutable argument behavior\n",
        "def demo_mutable_immutable(mutable_arg, immutable_arg):\n",
        "    print(\"Before changes:\")\n",
        "    print(\"Mutable Argument:\", mutable_arg)\n",
        "    print(\"Immutable Argument:\", immutable_arg)\n",
        "\n",
        "    # Modifying the mutable argument (list)\n",
        "    mutable_arg.append(4)\n",
        "\n",
        "    # Reassigning the immutable argument (integer)\n",
        "    immutable_arg = 10\n",
        "\n",
        "    print(\"\\nAfter changes:\")\n",
        "    print(\"Mutable Argument:\", mutable_arg)  # The change will be reflected\n",
        "    print(\"Immutable Argument:\", immutable_arg)  # This change won't affect the original value\n",
        "\n",
        "# Example usage\n",
        "my_list = [1, 2, 3]\n",
        "my_number = 5\n",
        "\n",
        "demo_mutable_immutable(my_list, my_number)\n",
        "\n",
        "# Checking values outside the function\n",
        "print(\"\\nOutside function:\")\n",
        "print(\"Original Mutable Argument (list):\", my_list)  # List will be modified\n",
        "print(\"Original Immutable Argument (number):\", my_number)  # Number remains unchanged"
      ],
      "metadata": {
        "colab": {
          "base_uri": "https://localhost:8080/"
        },
        "id": "x4f5zQWGUPol",
        "outputId": "38ae42b7-ce16-4c51-ed7b-1b94f4f14fb4"
      },
      "execution_count": null,
      "outputs": [
        {
          "output_type": "stream",
          "name": "stdout",
          "text": [
            "Before changes:\n",
            "Mutable Argument: [1, 2, 3]\n",
            "Immutable Argument: 5\n",
            "\n",
            "After changes:\n",
            "Mutable Argument: [1, 2, 3, 4]\n",
            "Immutable Argument: 10\n",
            "\n",
            "Outside function:\n",
            "Original Mutable Argument (list): [1, 2, 3, 4]\n",
            "Original Immutable Argument (number): 5\n"
          ]
        }
      ]
    },
    {
      "cell_type": "code",
      "source": [
        "# Program to demonstrate the use of logical operators\n",
        "\n",
        "# Defining some variables\n",
        "x = 10\n",
        "y = 5\n",
        "z = 20\n",
        "\n",
        "# Using the 'and' operator\n",
        "if x > y and z > x:\n",
        "    print(\"Both conditions are True (x > y and z > x)\")\n",
        "\n",
        "# Using the 'or' operator\n",
        "if x > y or x > z:\n",
        "    print(\"At least one condition is True (x > y or x > z)\")\n",
        "\n",
        "# Using the 'not' operator\n",
        "if not x < y:\n",
        "    print(\"The condition 'x < y' is False, so 'not x < y' is True\")\n",
        "\n",
        "# Combining all logical operators\n",
        "if (x > y and z > x) or (x == 10 and not y == 10):\n",
        "    print(\"The combined condition using 'and', 'or', and 'not' is True\")\n"
      ],
      "metadata": {
        "colab": {
          "base_uri": "https://localhost:8080/"
        },
        "id": "q7XslZcXU8J4",
        "outputId": "6fb4cc21-c02b-469d-fd52-4d2395c3aa7a"
      },
      "execution_count": null,
      "outputs": [
        {
          "output_type": "stream",
          "name": "stdout",
          "text": [
            "Both conditions are True (x > y and z > x)\n",
            "At least one condition is True (x > y or x > z)\n",
            "The condition 'x < y' is False, so 'not x < y' is True\n",
            "The combined condition using 'and', 'or', and 'not' is True\n"
          ]
        }
      ]
    },
    {
      "cell_type": "code",
      "source": [
        "# Program to check if the number is positive, negative, or zero\n",
        "\n",
        "# Input a number from the user\n",
        "number = float(input(\"Enter a number: \"))\n",
        "\n",
        "# Check if the number is positive, negative, or zero\n",
        "if number > 0:\n",
        "    print(f\"{number} is a positive number.\")\n",
        "elif number < 0:\n",
        "    print(f\"{number} is a negative number.\")\n",
        "else:\n",
        "    print(f\"{number} is zero.\")\n"
      ],
      "metadata": {
        "colab": {
          "base_uri": "https://localhost:8080/"
        },
        "id": "aITznfVjVZHC",
        "outputId": "d6cd4181-0d73-44e2-eeb1-4944caa97b4c"
      },
      "execution_count": null,
      "outputs": [
        {
          "output_type": "stream",
          "name": "stdout",
          "text": [
            "Enter a number: 10\n",
            "10.0 is a positive number.\n"
          ]
        }
      ]
    },
    {
      "cell_type": "code",
      "source": [
        "# Program to print numbers from 1 to 10 using a for loop\n",
        "for i in range(1, 11):\n",
        "    print(i)\n"
      ],
      "metadata": {
        "colab": {
          "base_uri": "https://localhost:8080/"
        },
        "id": "jbbN3jcjWdi7",
        "outputId": "4f542b2f-ec02-43df-ec08-8ea69fb7cfed"
      },
      "execution_count": null,
      "outputs": [
        {
          "output_type": "stream",
          "name": "stdout",
          "text": [
            "1\n",
            "2\n",
            "3\n",
            "4\n",
            "5\n",
            "6\n",
            "7\n",
            "8\n",
            "9\n",
            "10\n"
          ]
        }
      ]
    },
    {
      "cell_type": "code",
      "source": [
        "# Program to find the sum of all even numbers between 1 and 50\n",
        "\n",
        "# Initialize the sum variable\n",
        "sum_of_evens = 0\n",
        "\n",
        "# Loop through numbers from 1 to 50\n",
        "for i in range(1, 51):\n",
        "    if i % 2 == 0:  # Check if the number is even\n",
        "        sum_of_evens += i  # Add the even number to the sum\n",
        "\n",
        "# Print the sum of even numbers\n",
        "print(\"The sum of all even numbers between 1 and 50 is:\", sum_of_evens)\n"
      ],
      "metadata": {
        "colab": {
          "base_uri": "https://localhost:8080/"
        },
        "id": "VtDS64PuW4fQ",
        "outputId": "95286786-8081-45ec-86f3-b416132f0c9c"
      },
      "execution_count": null,
      "outputs": [
        {
          "output_type": "stream",
          "name": "stdout",
          "text": [
            "The sum of all even numbers between 1 and 50 is: 650\n"
          ]
        }
      ]
    },
    {
      "cell_type": "code",
      "source": [
        "# Program to reverse a string using a while loop\n",
        "\n",
        "# Input string from the user\n",
        "input_string = input(\"Enter a string: \")\n",
        "\n",
        "# Initialize an empty string to store the reversed string\n",
        "reversed_string = \"\"\n",
        "\n",
        "# Initialize an index to the last character of the input string\n",
        "index = len(input_string) - 1\n",
        "\n",
        "# Use while loop to reverse the string\n",
        "while index >= 0:\n",
        "    reversed_string += input_string[index]  # Append the character to the reversed string\n",
        "    index -= 1  # Move to the previous character\n",
        "\n",
        "# Print the reversed string\n",
        "print(\"Reversed string:\", reversed_string)"
      ],
      "metadata": {
        "colab": {
          "base_uri": "https://localhost:8080/"
        },
        "id": "tJ3xkMrOYMBl",
        "outputId": "8b6f8f1b-d036-45c6-ff6b-516b50f85c8c"
      },
      "execution_count": null,
      "outputs": [
        {
          "output_type": "stream",
          "name": "stdout",
          "text": [
            "Enter a string: ram\n",
            "Reversed string: mar\n"
          ]
        }
      ]
    }
  ]
}